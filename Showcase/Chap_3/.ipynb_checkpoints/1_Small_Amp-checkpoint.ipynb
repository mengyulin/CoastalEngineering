{
 "cells": [
  {
   "cell_type": "markdown",
   "id": "2bd616df",
   "metadata": {
    "slideshow": {
     "slide_type": "slide"
    }
   },
   "source": [
    "[![Open In Colab](https://colab.research.google.com/assets/colab-badge.svg)](https://colab.research.google.com/github/mengyulin/CoastalEngineering/blob/master/Showcase/Chap_3/1_Small_Amp.ipynb)\n",
    "\n",
    "## 載入 Python 函式庫"
   ]
  },
  {
   "cell_type": "code",
   "execution_count": 2,
   "id": "dedbd39e",
   "metadata": {
    "slideshow": {
     "slide_type": "-"
    }
   },
   "outputs": [],
   "source": [
    "%matplotlib inline\n",
    "\n",
    "import numpy as np\n",
    "import matplotlib.pyplot as plt"
   ]
  },
  {
   "cell_type": "code",
   "execution_count": 3,
   "id": "9eb29f2b",
   "metadata": {
    "slideshow": {
     "slide_type": "-"
    }
   },
   "outputs": [],
   "source": [
    "from ipywidgets import interact"
   ]
  },
  {
   "cell_type": "markdown",
   "id": "818e4884",
   "metadata": {
    "slideshow": {
     "slide_type": "slide"
    }
   },
   "source": [
    "# 前進正弦波 (progress sinusoidal waves)\n",
    "\n",
    "## 波形函數\n",
    "\n",
    "一個前進的正弦波 (sinusoidal wave) 波形 (即水面高程的變化) 可以寫為\n",
    "\\begin{equation}\n",
    "\\eta = A\\cos(kx-\\omega t) = \\frac{H}{2}\\cos(kx-\\omega t)\n",
    "\\end{equation}\n",
    "其中\n",
    "* $A$: 振幅\n",
    "* $H$: 波高\n",
    "* $k = 2\\pi/L$: 波數\n",
    "* $L$: 波長\n",
    "* $\\omega = 2\\pi/T$: 角頻率\n",
    "* $T$: 波週期"
   ]
  },
  {
   "cell_type": "markdown",
   "id": "e9717ffb",
   "metadata": {
    "slideshow": {
     "slide_type": "subslide"
    }
   },
   "source": [
    "## 波數 (wave number) 的意義\n",
    "\n",
    "波數 $k$ 代表在 $0\\le x\\le 2\\pi$ 區間內，波的數量。以下程式可以呈現不同 $k$ 值在 $0\\le x\\le 2\\pi$ 區間內的波形，其中振幅 $A = 1$, 時間固定在 $\\omega t = \\pi$。"
   ]
  },
  {
   "cell_type": "code",
   "execution_count": 4,
   "id": "bf3a662c",
   "metadata": {
    "slideshow": {
     "slide_type": "subslide"
    }
   },
   "outputs": [],
   "source": [
    "x = np.linspace(0, 2*np.pi, 500)\n",
    "\n",
    "def myplot(k=1):\n",
    "    y = np.cos(k*x-np.pi)\n",
    "    plt.plot(x, y)\n",
    "    plt.xlabel(\"x\")\n",
    "    plt.ylabel(\"$\\eta$\")\n",
    "    plt.ylim(-1.1, 1.1)\n",
    "    major_ticks = np.arange(-1, 2, 1)\n",
    "    plt.yticks(major_ticks)\n",
    "    plt.grid(axis='y')\n",
    "    plt.rcParams['figure.figsize'] = [6, 4]\n",
    "    plt.rcParams['figure.dpi'] = 100"
   ]
  },
  {
   "cell_type": "code",
   "execution_count": 5,
   "id": "136caccf",
   "metadata": {
    "scrolled": true,
    "slideshow": {
     "slide_type": "subslide"
    }
   },
   "outputs": [
    {
     "data": {
      "application/vnd.jupyter.widget-view+json": {
       "model_id": "7e3aad4c27734b54af29bbacc47feaa4",
       "version_major": 2,
       "version_minor": 0
      },
      "text/plain": [
       "interactive(children=(FloatSlider(value=1.0, description='k', max=10.0, min=1.0), Output()), _dom_classes=('wi…"
      ]
     },
     "metadata": {},
     "output_type": "display_data"
    },
    {
     "data": {
      "text/plain": [
       "<function __main__.myplot(k=1)>"
      ]
     },
     "execution_count": 5,
     "metadata": {},
     "output_type": "execute_result"
    }
   ],
   "source": [
    "interact(myplot, k=(1., 10.))"
   ]
  },
  {
   "cell_type": "markdown",
   "id": "e505eaa9",
   "metadata": {
    "slideshow": {
     "slide_type": "slide"
    }
   },
   "source": [
    "## 波速\n",
    "\n",
    "波速的定義為波長除以週期：\n",
    "\\begin{equation}\n",
    "C = \\frac{L}{T} = \\frac{\\omega}{k}\n",
    "\\end{equation}\n",
    "其意義為波形前進的速度。以下程式呈現出不同時間的波形變化。"
   ]
  },
  {
   "cell_type": "code",
   "execution_count": 6,
   "id": "e3d635f3",
   "metadata": {
    "slideshow": {
     "slide_type": "subslide"
    }
   },
   "outputs": [],
   "source": [
    "x2 = np.linspace(0, 6*np.pi, 500)\n",
    "\n",
    "def prog_waves(t=0):\n",
    "    k = 1\n",
    "    T = 5\n",
    "    omega = 2*np.pi/T\n",
    "    y2 = np.cos(k*x2-omega*t)\n",
    "    xp = (omega/k) * t\n",
    "    yp = np.cos(k*xp-omega*t)\n",
    "    plt.plot(x2, y2)\n",
    "    plt.plot(xp,yp,'ro')\n",
    "    plt.xlabel(\"x\")\n",
    "    plt.ylabel(\"$\\eta$\")\n",
    "    plt.xlim(0, 6*np.pi)\n",
    "    plt.ylim(-1.1, 1.1)\n",
    "    major_xticks = np.arange(0, 7, 1) * np.pi\n",
    "    major_yticks = np.arange(-1, 2, 1)\n",
    "    plt.xticks(major_xticks)\n",
    "    plt.yticks(major_yticks)\n",
    "    plt.grid()\n",
    "    plt.rcParams['figure.figsize'] = [6, 4]\n",
    "    plt.rcParams['figure.dpi'] = 100"
   ]
  },
  {
   "cell_type": "code",
   "execution_count": 7,
   "id": "1ea2d945",
   "metadata": {
    "scrolled": true,
    "slideshow": {
     "slide_type": "subslide"
    }
   },
   "outputs": [
    {
     "data": {
      "application/vnd.jupyter.widget-view+json": {
       "model_id": "c6073ad0e59b473bb5f7eb01d1294179",
       "version_major": 2,
       "version_minor": 0
      },
      "text/plain": [
       "interactive(children=(FloatSlider(value=0.0, description='t', max=15.0), Output()), _dom_classes=('widget-inte…"
      ]
     },
     "metadata": {},
     "output_type": "display_data"
    },
    {
     "data": {
      "text/plain": [
       "<function __main__.prog_waves(t=0)>"
      ]
     },
     "execution_count": 7,
     "metadata": {},
     "output_type": "execute_result"
    }
   ],
   "source": [
    "interact(prog_waves, t=(0, 15.))"
   ]
  },
  {
   "cell_type": "markdown",
   "id": "4c69c0d2",
   "metadata": {
    "slideshow": {
     "slide_type": "slide"
    }
   },
   "source": [
    "# 駐波"
   ]
  },
  {
   "cell_type": "code",
   "execution_count": 28,
   "id": "7bc5dae5",
   "metadata": {},
   "outputs": [],
   "source": [
    "def standing_waves(t=0):\n",
    "    k = 1\n",
    "    T = 5\n",
    "    omega = 2*np.pi/T\n",
    "    x = np.linspace(0, 10*np.pi, 500)\n",
    "    y_plus = np.cos(k*x-omega*t)\n",
    "    y_minus = np.cos(-k*x-omega*t)\n",
    "    y_standing = y_plus + y_minus\n",
    "    plt.plot(x, y_plus, label='$\\eta_+$')\n",
    "    plt.plot(x, y_minus, label='$\\eta_-$')\n",
    "    plt.plot(x, y_standing, label='$\\eta_+ + \\eta_-$')\n",
    "    plt.xlabel(\"x\")\n",
    "    plt.ylabel(\"$\\eta$\")\n",
    "    plt.xlim(0, 10*np.pi)\n",
    "    plt.ylim(-2.4, 2.4)\n",
    "    major_xticks = np.arange(0, 11, 1) * np.pi\n",
    "    major_yticks = np.arange(-1, 2, 1)\n",
    "    plt.xticks(major_xticks)\n",
    "    plt.yticks(major_yticks)\n",
    "    plt.legend(loc='upper right')\n",
    "    plt.grid()\n",
    "    plt.rcParams['figure.figsize'] = [6, 4]\n",
    "    plt.rcParams['figure.dpi'] = 100"
   ]
  },
  {
   "cell_type": "code",
   "execution_count": 29,
   "id": "070bea3f",
   "metadata": {},
   "outputs": [
    {
     "data": {
      "application/vnd.jupyter.widget-view+json": {
       "model_id": "1a0b34c9b3cb4854aed4ccc18c9d128a",
       "version_major": 2,
       "version_minor": 0
      },
      "text/plain": [
       "interactive(children=(FloatSlider(value=0.0, description='t', max=15.0), Output()), _dom_classes=('widget-inte…"
      ]
     },
     "metadata": {},
     "output_type": "display_data"
    },
    {
     "data": {
      "text/plain": [
       "<function __main__.standing_waves(t=0)>"
      ]
     },
     "execution_count": 29,
     "metadata": {},
     "output_type": "execute_result"
    }
   ],
   "source": [
    "interact(standing_waves, t=(0, 15.))"
   ]
  },
  {
   "cell_type": "code",
   "execution_count": null,
   "id": "e27aaad8",
   "metadata": {},
   "outputs": [],
   "source": []
  }
 ],
 "metadata": {
  "celltoolbar": "Slideshow",
  "kernelspec": {
   "display_name": "Python 3",
   "language": "python",
   "name": "python3"
  },
  "language_info": {
   "codemirror_mode": {
    "name": "ipython",
    "version": 3
   },
   "file_extension": ".py",
   "mimetype": "text/x-python",
   "name": "python",
   "nbconvert_exporter": "python",
   "pygments_lexer": "ipython3",
   "version": "3.8.8"
  }
 },
 "nbformat": 4,
 "nbformat_minor": 5
}

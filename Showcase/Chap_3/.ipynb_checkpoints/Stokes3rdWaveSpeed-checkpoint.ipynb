{
 "cells": [
  {
   "cell_type": "markdown",
   "id": "9a459f50",
   "metadata": {},
   "source": [
    "# Stokes 3rd Order Wave Speed"
   ]
  },
  {
   "cell_type": "code",
   "execution_count": 35,
   "id": "4c497c4f",
   "metadata": {},
   "outputs": [],
   "source": [
    "%matplotlib inline\n",
    "\n",
    "import numpy as np\n",
    "import matplotlib.pyplot as plt\n",
    "from sympy import *"
   ]
  },
  {
   "cell_type": "code",
   "execution_count": 29,
   "id": "6dba4621",
   "metadata": {},
   "outputs": [],
   "source": [
    "x, g, h, a, alpha, omega = symbols('x g h a alpha omega')"
   ]
  },
  {
   "cell_type": "code",
   "execution_count": 30,
   "id": "6b60fcde",
   "metadata": {},
   "outputs": [
    {
     "data": {
      "text/latex": [
       "$\\displaystyle \\frac{g x \\left(\\frac{a^{2} x^{2} \\left(1.125 \\left(\\coth^{2}{\\left(x \\right)} - 1\\right)^{2} + \\coth^{2}{\\left(x \\right)}\\right)}{h^{2}} + 1\\right) \\tanh{\\left(x \\right)}}{h} - \\omega^{2}$"
      ],
      "text/plain": [
       "g*x*(a**2*x**2*(1.125*(coth(x)**2 - 1)**2 + coth(x)**2)/h**2 + 1)*tanh(x)/h - omega**2"
      ]
     },
     "execution_count": 30,
     "metadata": {},
     "output_type": "execute_result"
    }
   ],
   "source": [
    "alpha = coth(x)\n",
    "fun = g/h * x * tanh(x) * (1+a**2/h**2 * x**2*(9/8*(alpha**2-1)**2+alpha**2)) - omega**2\n",
    "fun"
   ]
  },
  {
   "cell_type": "code",
   "execution_count": 31,
   "id": "4bdc3eeb",
   "metadata": {},
   "outputs": [
    {
     "name": "stdout",
     "output_type": "stream",
     "text": [
      "g*x*(a**2*x**2*(1.125*(coth(x)**2 - 1)**2 + coth(x)**2)/h**2 + 1)*tanh(x)/h - omega**2\n"
     ]
    }
   ],
   "source": [
    "print(fun)"
   ]
  },
  {
   "cell_type": "code",
   "execution_count": 32,
   "id": "847802ab",
   "metadata": {},
   "outputs": [
    {
     "data": {
      "text/latex": [
       "$\\displaystyle \\frac{g x \\left(1 - \\tanh^{2}{\\left(x \\right)}\\right) \\left(\\frac{a^{2} x^{2} \\left(1.125 \\left(\\coth^{2}{\\left(x \\right)} - 1\\right)^{2} + \\coth^{2}{\\left(x \\right)}\\right)}{h^{2}} + 1\\right)}{h} + \\frac{g x \\left(\\frac{a^{2} x^{2} \\left(- \\frac{4.5 \\left(\\coth^{2}{\\left(x \\right)} - 1\\right) \\coth{\\left(x \\right)}}{\\sinh^{2}{\\left(x \\right)}} - \\frac{2 \\coth{\\left(x \\right)}}{\\sinh^{2}{\\left(x \\right)}}\\right)}{h^{2}} + \\frac{2 a^{2} x \\left(1.125 \\left(\\coth^{2}{\\left(x \\right)} - 1\\right)^{2} + \\coth^{2}{\\left(x \\right)}\\right)}{h^{2}}\\right) \\tanh{\\left(x \\right)}}{h} + \\frac{g \\left(\\frac{a^{2} x^{2} \\left(1.125 \\left(\\coth^{2}{\\left(x \\right)} - 1\\right)^{2} + \\coth^{2}{\\left(x \\right)}\\right)}{h^{2}} + 1\\right) \\tanh{\\left(x \\right)}}{h}$"
      ],
      "text/plain": [
       "g*x*(1 - tanh(x)**2)*(a**2*x**2*(1.125*(coth(x)**2 - 1)**2 + coth(x)**2)/h**2 + 1)/h + g*x*(a**2*x**2*(-4.5*(coth(x)**2 - 1)*coth(x)/sinh(x)**2 - 2*coth(x)/sinh(x)**2)/h**2 + 2*a**2*x*(1.125*(coth(x)**2 - 1)**2 + coth(x)**2)/h**2)*tanh(x)/h + g*(a**2*x**2*(1.125*(coth(x)**2 - 1)**2 + coth(x)**2)/h**2 + 1)*tanh(x)/h"
      ]
     },
     "execution_count": 32,
     "metadata": {},
     "output_type": "execute_result"
    }
   ],
   "source": [
    "fun2 = diff(fun,x)\n",
    "fun2"
   ]
  },
  {
   "cell_type": "code",
   "execution_count": 24,
   "id": "6a799c82",
   "metadata": {},
   "outputs": [
    {
     "name": "stdout",
     "output_type": "stream",
     "text": [
      "\\frac{g x \\left(1 - \\tanh^{2}{\\left(x \\right)}\\right) \\left(\\frac{a^{2} x^{2} \\left(1.125 \\left(\\coth^{2}{\\left(x \\right)} - 1\\right)^{2} + \\coth^{2}{\\left(x \\right)}\\right)}{h^{2}} + 1\\right)}{h} + \\frac{g x \\left(\\frac{a^{2} x^{2} \\left(- \\frac{4.5 \\left(\\coth^{2}{\\left(x \\right)} - 1\\right) \\coth{\\left(x \\right)}}{\\sinh^{2}{\\left(x \\right)}} - \\frac{2 \\coth{\\left(x \\right)}}{\\sinh^{2}{\\left(x \\right)}}\\right)}{h^{2}} + \\frac{2 a^{2} x \\left(1.125 \\left(\\coth^{2}{\\left(x \\right)} - 1\\right)^{2} + \\coth^{2}{\\left(x \\right)}\\right)}{h^{2}}\\right) \\tanh{\\left(x \\right)}}{h} + \\frac{g \\left(\\frac{a^{2} x^{2} \\left(1.125 \\left(\\coth^{2}{\\left(x \\right)} - 1\\right)^{2} + \\coth^{2}{\\left(x \\right)}\\right)}{h^{2}} + 1\\right) \\tanh{\\left(x \\right)}}{h}\n"
     ]
    }
   ],
   "source": [
    "print(latex(fun2))"
   ]
  },
  {
   "cell_type": "code",
   "execution_count": 25,
   "id": "c433236d",
   "metadata": {},
   "outputs": [
    {
     "name": "stdout",
     "output_type": "stream",
     "text": [
      "g*x*(1 - tanh(x)**2)*(a**2*x**2*(1.125*(coth(x)**2 - 1)**2 + coth(x)**2)/h**2 + 1)/h + g*x*(a**2*x**2*(-4.5*(coth(x)**2 - 1)*coth(x)/sinh(x)**2 - 2*coth(x)/sinh(x)**2)/h**2 + 2*a**2*x*(1.125*(coth(x)**2 - 1)**2 + coth(x)**2)/h**2)*tanh(x)/h + g*(a**2*x**2*(1.125*(coth(x)**2 - 1)**2 + coth(x)**2)/h**2 + 1)*tanh(x)/h\n"
     ]
    }
   ],
   "source": [
    "print(fun2)"
   ]
  },
  {
   "cell_type": "code",
   "execution_count": null,
   "id": "69ba7ad3",
   "metadata": {},
   "outputs": [],
   "source": []
  }
 ],
 "metadata": {
  "kernelspec": {
   "display_name": "Python 3",
   "language": "python",
   "name": "python3"
  },
  "language_info": {
   "codemirror_mode": {
    "name": "ipython",
    "version": 3
   },
   "file_extension": ".py",
   "mimetype": "text/x-python",
   "name": "python",
   "nbconvert_exporter": "python",
   "pygments_lexer": "ipython3",
   "version": "3.8.8"
  }
 },
 "nbformat": 4,
 "nbformat_minor": 5
}

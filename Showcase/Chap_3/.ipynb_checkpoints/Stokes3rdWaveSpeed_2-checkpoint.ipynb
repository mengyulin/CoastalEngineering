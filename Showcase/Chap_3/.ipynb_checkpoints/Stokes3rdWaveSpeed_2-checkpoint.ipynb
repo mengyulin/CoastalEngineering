{
 "cells": [
  {
   "cell_type": "markdown",
   "id": "aeb4346b",
   "metadata": {},
   "source": [
    "# Stokes 3rd Order Wave Speed"
   ]
  },
  {
   "cell_type": "code",
   "execution_count": 35,
   "id": "12688328",
   "metadata": {},
   "outputs": [],
   "source": [
    "%matplotlib inline\n",
    "\n",
    "import numpy as np\n",
    "import matplotlib.pyplot as plt\n",
    "from sympy import *"
   ]
  },
  {
   "cell_type": "code",
   "execution_count": 29,
   "id": "60d7f616",
   "metadata": {},
   "outputs": [],
   "source": [
    "x, g, h, a, alpha, omega = symbols('x g h a alpha omega')"
   ]
  },
  {
   "cell_type": "code",
   "execution_count": 30,
   "id": "b385ba43",
   "metadata": {},
   "outputs": [
    {
     "data": {
      "text/latex": [
       "$\\displaystyle \\frac{g x \\left(\\frac{a^{2} x^{2} \\left(1.125 \\left(\\coth^{2}{\\left(x \\right)} - 1\\right)^{2} + \\coth^{2}{\\left(x \\right)}\\right)}{h^{2}} + 1\\right) \\tanh{\\left(x \\right)}}{h} - \\omega^{2}$"
      ],
      "text/plain": [
       "g*x*(a**2*x**2*(1.125*(coth(x)**2 - 1)**2 + coth(x)**2)/h**2 + 1)*tanh(x)/h - omega**2"
      ]
     },
     "execution_count": 30,
     "metadata": {},
     "output_type": "execute_result"
    }
   ],
   "source": [
    "alpha = coth(x)\n",
    "fun = g/h * x * tanh(x) * (1+a**2/h**2 * x**2*(9/8*(alpha**2-1)**2+alpha**2)) - omega**2\n",
    "fun"
   ]
  },
  {
   "cell_type": "code",
   "execution_count": 31,
   "id": "a6626472",
   "metadata": {},
   "outputs": [
    {
     "name": "stdout",
     "output_type": "stream",
     "text": [
      "g*x*(a**2*x**2*(1.125*(coth(x)**2 - 1)**2 + coth(x)**2)/h**2 + 1)*tanh(x)/h - omega**2\n"
     ]
    }
   ],
   "source": [
    "print(fun)"
   ]
  },
  {
   "cell_type": "code",
   "execution_count": 32,
   "id": "fbfba12b",
   "metadata": {},
   "outputs": [
    {
     "data": {
      "text/latex": [
       "$\\displaystyle \\frac{g x \\left(1 - \\tanh^{2}{\\left(x \\right)}\\right) \\left(\\frac{a^{2} x^{2} \\left(1.125 \\left(\\coth^{2}{\\left(x \\right)} - 1\\right)^{2} + \\coth^{2}{\\left(x \\right)}\\right)}{h^{2}} + 1\\right)}{h} + \\frac{g x \\left(\\frac{a^{2} x^{2} \\left(- \\frac{4.5 \\left(\\coth^{2}{\\left(x \\right)} - 1\\right) \\coth{\\left(x \\right)}}{\\sinh^{2}{\\left(x \\right)}} - \\frac{2 \\coth{\\left(x \\right)}}{\\sinh^{2}{\\left(x \\right)}}\\right)}{h^{2}} + \\frac{2 a^{2} x \\left(1.125 \\left(\\coth^{2}{\\left(x \\right)} - 1\\right)^{2} + \\coth^{2}{\\left(x \\right)}\\right)}{h^{2}}\\right) \\tanh{\\left(x \\right)}}{h} + \\frac{g \\left(\\frac{a^{2} x^{2} \\left(1.125 \\left(\\coth^{2}{\\left(x \\right)} - 1\\right)^{2} + \\coth^{2}{\\left(x \\right)}\\right)}{h^{2}} + 1\\right) \\tanh{\\left(x \\right)}}{h}$"
      ],
      "text/plain": [
       "g*x*(1 - tanh(x)**2)*(a**2*x**2*(1.125*(coth(x)**2 - 1)**2 + coth(x)**2)/h**2 + 1)/h + g*x*(a**2*x**2*(-4.5*(coth(x)**2 - 1)*coth(x)/sinh(x)**2 - 2*coth(x)/sinh(x)**2)/h**2 + 2*a**2*x*(1.125*(coth(x)**2 - 1)**2 + coth(x)**2)/h**2)*tanh(x)/h + g*(a**2*x**2*(1.125*(coth(x)**2 - 1)**2 + coth(x)**2)/h**2 + 1)*tanh(x)/h"
      ]
     },
     "execution_count": 32,
     "metadata": {},
     "output_type": "execute_result"
    }
   ],
   "source": [
    "fun2 = diff(fun,x)\n",
    "fun2"
   ]
  },
  {
   "cell_type": "code",
   "execution_count": 24,
   "id": "28bbef62",
   "metadata": {},
   "outputs": [
    {
     "name": "stdout",
     "output_type": "stream",
     "text": [
      "\\frac{g x \\left(1 - \\tanh^{2}{\\left(x \\right)}\\right) \\left(\\frac{a^{2} x^{2} \\left(1.125 \\left(\\coth^{2}{\\left(x \\right)} - 1\\right)^{2} + \\coth^{2}{\\left(x \\right)}\\right)}{h^{2}} + 1\\right)}{h} + \\frac{g x \\left(\\frac{a^{2} x^{2} \\left(- \\frac{4.5 \\left(\\coth^{2}{\\left(x \\right)} - 1\\right) \\coth{\\left(x \\right)}}{\\sinh^{2}{\\left(x \\right)}} - \\frac{2 \\coth{\\left(x \\right)}}{\\sinh^{2}{\\left(x \\right)}}\\right)}{h^{2}} + \\frac{2 a^{2} x \\left(1.125 \\left(\\coth^{2}{\\left(x \\right)} - 1\\right)^{2} + \\coth^{2}{\\left(x \\right)}\\right)}{h^{2}}\\right) \\tanh{\\left(x \\right)}}{h} + \\frac{g \\left(\\frac{a^{2} x^{2} \\left(1.125 \\left(\\coth^{2}{\\left(x \\right)} - 1\\right)^{2} + \\coth^{2}{\\left(x \\right)}\\right)}{h^{2}} + 1\\right) \\tanh{\\left(x \\right)}}{h}\n"
     ]
    }
   ],
   "source": [
    "print(latex(fun2))"
   ]
  },
  {
   "cell_type": "code",
   "execution_count": 25,
   "id": "cb4a5266",
   "metadata": {},
   "outputs": [
    {
     "name": "stdout",
     "output_type": "stream",
     "text": [
      "g*x*(1 - tanh(x)**2)*(a**2*x**2*(1.125*(coth(x)**2 - 1)**2 + coth(x)**2)/h**2 + 1)/h + g*x*(a**2*x**2*(-4.5*(coth(x)**2 - 1)*coth(x)/sinh(x)**2 - 2*coth(x)/sinh(x)**2)/h**2 + 2*a**2*x*(1.125*(coth(x)**2 - 1)**2 + coth(x)**2)/h**2)*tanh(x)/h + g*(a**2*x**2*(1.125*(coth(x)**2 - 1)**2 + coth(x)**2)/h**2 + 1)*tanh(x)/h\n"
     ]
    }
   ],
   "source": [
    "print(fun2)"
   ]
  },
  {
   "cell_type": "markdown",
   "id": "c43cf359",
   "metadata": {},
   "source": [
    "# Newton-Raphson 法求解 Stokes 3rd Order 頻散關係"
   ]
  },
  {
   "cell_type": "code",
   "execution_count": 15,
   "id": "b29c56e0",
   "metadata": {},
   "outputs": [],
   "source": [
    "# Wave condition and parameters\n",
    "g = 9.81          # gravity\n",
    "T = 8             # wave period\n",
    "h = 30            # water depth\n",
    "H = 8.5           # wave height\n",
    "a = H/2\n",
    "omega = 2*np.pi/T # wave angular frequency"
   ]
  },
  {
   "cell_type": "code",
   "execution_count": 37,
   "id": "f87c28c5",
   "metadata": {},
   "outputs": [
    {
     "ename": "TypeError",
     "evalue": "loop of ufunc does not support argument 0 of type Mul which has no callable tanh method",
     "output_type": "error",
     "traceback": [
      "\u001b[0;31m---------------------------------------------------------------------------\u001b[0m",
      "\u001b[0;31mAttributeError\u001b[0m                            Traceback (most recent call last)",
      "\u001b[0;31mAttributeError\u001b[0m: 'Mul' object has no attribute 'tanh'",
      "\nThe above exception was the direct cause of the following exception:\n",
      "\u001b[0;31mTypeError\u001b[0m                                 Traceback (most recent call last)",
      "\u001b[0;32m<ipython-input-37-e0d153297c89>\u001b[0m in \u001b[0;36m<module>\u001b[0;34m\u001b[0m\n\u001b[1;32m      4\u001b[0m \u001b[0mx\u001b[0m \u001b[0;34m=\u001b[0m \u001b[0mk\u001b[0m\u001b[0;34m*\u001b[0m\u001b[0mh\u001b[0m\u001b[0;34m\u001b[0m\u001b[0;34m\u001b[0m\u001b[0m\n\u001b[1;32m      5\u001b[0m \u001b[0;32mfor\u001b[0m \u001b[0mi\u001b[0m \u001b[0;32min\u001b[0m \u001b[0mrange\u001b[0m\u001b[0;34m(\u001b[0m\u001b[0;36m50\u001b[0m\u001b[0;34m)\u001b[0m\u001b[0;34m:\u001b[0m\u001b[0;34m\u001b[0m\u001b[0;34m\u001b[0m\u001b[0m\n\u001b[0;32m----> 6\u001b[0;31m     \u001b[0mal\u001b[0m \u001b[0;34m=\u001b[0m \u001b[0;36m1\u001b[0m\u001b[0;34m/\u001b[0m\u001b[0mnp\u001b[0m\u001b[0;34m.\u001b[0m\u001b[0mtanh\u001b[0m\u001b[0;34m(\u001b[0m\u001b[0mx\u001b[0m\u001b[0;34m)\u001b[0m\u001b[0;34m\u001b[0m\u001b[0;34m\u001b[0m\u001b[0m\n\u001b[0m\u001b[1;32m      7\u001b[0m     \u001b[0mf\u001b[0m \u001b[0;34m=\u001b[0m \u001b[0mg\u001b[0m\u001b[0;34m*\u001b[0m\u001b[0mx\u001b[0m\u001b[0;34m*\u001b[0m\u001b[0;34m(\u001b[0m\u001b[0ma\u001b[0m\u001b[0;34m**\u001b[0m\u001b[0;36m2\u001b[0m\u001b[0;34m*\u001b[0m\u001b[0mx\u001b[0m\u001b[0;34m**\u001b[0m\u001b[0;36m2\u001b[0m\u001b[0;34m*\u001b[0m\u001b[0;34m(\u001b[0m\u001b[0;36m1.125\u001b[0m\u001b[0;34m*\u001b[0m\u001b[0;34m(\u001b[0m\u001b[0malpha\u001b[0m\u001b[0;34m**\u001b[0m\u001b[0;36m2\u001b[0m \u001b[0;34m-\u001b[0m \u001b[0;36m1\u001b[0m\u001b[0;34m)\u001b[0m\u001b[0;34m**\u001b[0m\u001b[0;36m2\u001b[0m \u001b[0;34m+\u001b[0m \u001b[0malpha\u001b[0m\u001b[0;34m**\u001b[0m\u001b[0;36m2\u001b[0m\u001b[0;34m)\u001b[0m\u001b[0;34m/\u001b[0m\u001b[0mh\u001b[0m\u001b[0;34m**\u001b[0m\u001b[0;36m2\u001b[0m \u001b[0;34m+\u001b[0m \u001b[0;36m1\u001b[0m\u001b[0;34m)\u001b[0m\u001b[0;31m\\\u001b[0m\u001b[0;34m\u001b[0m\u001b[0;34m\u001b[0m\u001b[0m\n\u001b[1;32m      8\u001b[0m     \u001b[0;34m*\u001b[0m\u001b[0mnp\u001b[0m\u001b[0;34m.\u001b[0m\u001b[0mtanh\u001b[0m\u001b[0;34m(\u001b[0m\u001b[0mx\u001b[0m\u001b[0;34m)\u001b[0m\u001b[0;34m/\u001b[0m\u001b[0mh\u001b[0m \u001b[0;34m-\u001b[0m \u001b[0momega\u001b[0m\u001b[0;34m**\u001b[0m\u001b[0;36m2\u001b[0m\u001b[0;34m\u001b[0m\u001b[0;34m\u001b[0m\u001b[0m\n",
      "\u001b[0;31mTypeError\u001b[0m: loop of ufunc does not support argument 0 of type Mul which has no callable tanh method"
     ]
    }
   ],
   "source": [
    "# Initial Guess\n",
    "L = 96.0540\n",
    "k = 2*np.pi/L\n",
    "x = k*h\n",
    "for i in range(50):\n",
    "    alpha = 1/np.tanh(x)\n",
    "    f = g*x*(a**2*x**2*(1.125*(alpha**2 - 1)**2 + alpha**2)/h**2 + 1)\\\n",
    "    *np.tanh(x)/h - omega**2"
   ]
  },
  {
   "cell_type": "code",
   "execution_count": null,
   "id": "2a76e706",
   "metadata": {},
   "outputs": [],
   "source": []
  }
 ],
 "metadata": {
  "kernelspec": {
   "display_name": "Python 3",
   "language": "python",
   "name": "python3"
  },
  "language_info": {
   "codemirror_mode": {
    "name": "ipython",
    "version": 3
   },
   "file_extension": ".py",
   "mimetype": "text/x-python",
   "name": "python",
   "nbconvert_exporter": "python",
   "pygments_lexer": "ipython3",
   "version": "3.8.8"
  }
 },
 "nbformat": 4,
 "nbformat_minor": 5
}

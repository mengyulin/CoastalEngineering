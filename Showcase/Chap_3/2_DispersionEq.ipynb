{
 "cells": [
  {
   "cell_type": "markdown",
   "id": "2bd616df",
   "metadata": {
    "slideshow": {
     "slide_type": "slide"
    }
   },
   "source": [
    "[![Open In Colab](https://colab.research.google.com/assets/colab-badge.svg)](https://colab.research.google.com/github/mengyulin/CoastalEngineering/blob/master/Showcase/Chap_3/2_DispersionEq.ipynb)\n",
    "\n",
    "## 載入 Python 函式庫"
   ]
  },
  {
   "cell_type": "code",
   "execution_count": 2,
   "id": "dedbd39e",
   "metadata": {
    "slideshow": {
     "slide_type": "-"
    }
   },
   "outputs": [],
   "source": [
    "%matplotlib inline\n",
    "\n",
    "import numpy as np\n",
    "import matplotlib.pyplot as plt"
   ]
  },
  {
   "cell_type": "markdown",
   "id": "ca4d2d05",
   "metadata": {
    "slideshow": {
     "slide_type": "slide"
    }
   },
   "source": [
    "# 頻散關係式之波長疊代\n",
    "\n",
    "\\begin{equation}\n",
    "L = \\frac{gT^2}{2\\pi}\\tanh\\frac{2\\pi h}{L}\n",
    "\\end{equation}\n",
    "\n",
    "先猜測波長的初始猜值 $L_0$ 代入等號右側，可以得到猜值 1 $L_1$:\n",
    "\n",
    "\\begin{equation}\n",
    "L_1 = \\frac{gT^2}{2\\pi}\\tanh\\frac{2\\pi h}{L_0}\n",
    "\\end{equation}\n",
    "\n",
    "再將 $L_1$ 代入右側，得到猜值 2。如此依序疊代直到收斂。"
   ]
  },
  {
   "cell_type": "markdown",
   "id": "138f1270",
   "metadata": {
    "slideshow": {
     "slide_type": "subslide"
    }
   },
   "source": [
    "## 範例\n",
    "\n",
    "水波週期 $T = 10~\\mathrm{s}$，求出水深 $h = 10~\\mathrm{m}$ 處之波長。\n",
    "\n",
    "設初始猜值 $L_0$ 為深水波長 $L_0 = gT^2/2\\pi$ 進行疊代。"
   ]
  },
  {
   "cell_type": "code",
   "execution_count": 2,
   "id": "cc91f437",
   "metadata": {
    "slideshow": {
     "slide_type": "subslide"
    }
   },
   "outputs": [
    {
     "name": "stdout",
     "output_type": "stream",
     "text": [
      "In deep water, L0 = 156.1310\n",
      "\n",
      "i = 0, L = 59.6462\n",
      "i = 1, L = 122.2706\n",
      "i = 2, L = 73.8436\n",
      "i = 3, L = 107.9689\n",
      "i = 4, L = 81.8247\n",
      "i = 5, L = 100.8134\n",
      "i = 6, L = 86.4007\n",
      "i = 7, L = 97.0133\n",
      "i = 8, L = 89.0094\n",
      "i = 9, L = 94.9433\n",
      "i = 10, L = 90.4855\n",
      "i = 11, L = 93.8023\n",
      "i = 12, L = 91.3163\n",
      "i = 13, L = 93.1695\n",
      "i = 14, L = 91.7824\n",
      "i = 15, L = 92.8175\n",
      "i = 16, L = 92.0433\n",
      "i = 17, L = 92.6214\n",
      "i = 18, L = 92.1892\n",
      "i = 19, L = 92.5120\n",
      "i = 20, L = 92.2707\n",
      "i = 21, L = 92.4510\n",
      "i = 22, L = 92.3163\n",
      "i = 23, L = 92.4169\n",
      "i = 24, L = 92.3417\n",
      "i = 25, L = 92.3979\n",
      "i = 26, L = 92.3559\n",
      "i = 27, L = 92.3873\n",
      "i = 28, L = 92.3638\n",
      "i = 29, L = 92.3814\n",
      "i = 30, L = 92.3683\n",
      "i = 31, L = 92.3781\n",
      "i = 32, L = 92.3707\n",
      "i = 33, L = 92.3762\n",
      "i = 34, L = 92.3721\n",
      "i = 35, L = 92.3752\n",
      "i = 36, L = 92.3729\n",
      "i = 37, L = 92.3746\n",
      "i = 38, L = 92.3733\n",
      "i = 39, L = 92.3743\n",
      "i = 40, L = 92.3736\n",
      "i = 41, L = 92.3741\n",
      "i = 42, L = 92.3737\n",
      "i = 43, L = 92.3740\n",
      "i = 44, L = 92.3738\n",
      "i = 45, L = 92.3739\n",
      "i = 46, L = 92.3738\n",
      "i = 47, L = 92.3739\n",
      "i = 48, L = 92.3738\n",
      "i = 49, L = 92.3739\n"
     ]
    }
   ],
   "source": [
    "T = 10\n",
    "h = 10\n",
    "g = 9.81\n",
    "L = g*T**2/(2*np.pi)\n",
    "print(f\"In deep water, L0 = {L:.4f}\")\n",
    "print()\n",
    "\n",
    "for i in range(50):\n",
    "    L = g*T**2/(2*np.pi) * np.tanh(2*np.pi*h/L)\n",
    "    print(f\"i = {i}, L = {L:.4f}\")"
   ]
  },
  {
   "cell_type": "markdown",
   "id": "a3853c19",
   "metadata": {
    "slideshow": {
     "slide_type": "slide"
    }
   },
   "source": [
    "# 頻散關係式之近似解\n",
    "\n",
    "## 1. Eckart (1951) 提出之近似解\n",
    "\n",
    "\\begin{equation}\n",
    "k = \\frac{\\omega^2}{g\\sqrt{\\tanh\\left(\\frac{\\omega^2}{g}h \\right)}}\n",
    "\\end{equation}"
   ]
  },
  {
   "cell_type": "markdown",
   "id": "aebfdafe",
   "metadata": {
    "slideshow": {
     "slide_type": "subslide"
    }
   },
   "source": [
    "### 測試例\n",
    "T = 10 s, h = 10 m, 精確解為 L = 92.373 m。上式之近似解為"
   ]
  },
  {
   "cell_type": "code",
   "execution_count": 4,
   "id": "871b1f16",
   "metadata": {},
   "outputs": [
    {
     "name": "stdout",
     "output_type": "stream",
     "text": [
      "L = 96.5019 m\n",
      "Relative error of L = 4.47%\n"
     ]
    }
   ],
   "source": [
    "# Wave condition and parameters\n",
    "g = 9.81\n",
    "T = 10\n",
    "h = 10\n",
    "omega = 2*np.pi/T\n",
    "\n",
    "# Approximation solution by Eckart (1951) \n",
    "k = omega**2 / (g*np.sqrt(np.tanh(omega**2/g*h)))\n",
    "L = 2*np.pi/k\n",
    "print(f\"L = {L:.4f} m\")\n",
    "\n",
    "# 誤差百分比 (精確解 L = 92.373)\n",
    "err = np.abs(L-92.373)/92.373 * 100\n",
    "print(f\"Relative error of L = {err:.2f}%\")"
   ]
  },
  {
   "cell_type": "markdown",
   "id": "4a1164ac",
   "metadata": {
    "slideshow": {
     "slide_type": "subslide"
    }
   },
   "source": [
    "## 1.1 使用 Newton-Raphson 法提升精確度\n",
    "\n",
    "由\n",
    "\n",
    "\\begin{equation}\n",
    "\\frac{L}{L_0} = \\tanh kh\n",
    "\\end{equation}\n",
    "\n",
    "可知，\n",
    "\n",
    "\\begin{equation}\n",
    "k_0h = kh\\tanh kh\n",
    "\\end{equation}\n",
    "\n",
    "定義一函數為\n",
    "\n",
    "\\begin{equation}\n",
    "f(x) = x\\tanh x - k_0h\n",
    "\\end{equation}\n",
    "\n",
    "則此函數之根即為 $kh$ 之精確解。"
   ]
  },
  {
   "cell_type": "markdown",
   "id": "45e7dbad",
   "metadata": {
    "slideshow": {
     "slide_type": "subslide"
    }
   },
   "source": [
    "Newton-Raphson 法可簡述為 (https://en.wikipedia.org/wiki/Newton%27s_method)\n",
    "\n",
    "\\begin{equation}\n",
    "kh \\simeq x_0 - f(x_0)/f'(x_0)\n",
    "\\end{equation}\n",
    "\n",
    "其中 $x_0$ 為 $kh$ 之初始猜值，$f'(x)$ 為 $f(x)$ 之一階導數。如此可得 $kh$ 之近似解為\n",
    "\n",
    "\\begin{equation}\n",
    "kh\\simeq x_0\\left[\\frac{k_0h+(x_0/\\cosh x_0)^2}{x_0\\tanh x_0 + (x_0/\\cosh x_0)^2} \\right]\n",
    "\\end{equation}\n",
    "\n",
    "以下程式為使用 Eckart (1951) 之解作為初始猜值，再使用 Newton-Raphson 法進行一次疊代。"
   ]
  },
  {
   "cell_type": "code",
   "execution_count": 4,
   "id": "1bb8d909",
   "metadata": {
    "slideshow": {
     "slide_type": "subslide"
    }
   },
   "outputs": [
    {
     "name": "stdout",
     "output_type": "stream",
     "text": [
      "L = 92.3272 m\n",
      "Relative error of L = 0.05%\n"
     ]
    }
   ],
   "source": [
    "# Wave condition and parameters\n",
    "g = 9.81\n",
    "T = 10\n",
    "h = 10\n",
    "omega = 2*np.pi/T\n",
    "\n",
    "# Deep water wave number\n",
    "k0 = 4*np.pi**2/(g*T**2)  \n",
    "\n",
    "# Initial guess using approximation solution by Eckart (1951)\n",
    "k = omega**2 / (g*np.sqrt(np.tanh(omega**2/g*h)))\n",
    "x0 = k*h\n",
    "\n",
    "# Iteration using Newton-Raphson method\n",
    "kh = x0 * (k0*h + (x0/np.cosh(x0))**2)/(x0*np.tanh(x0)+(x0/np.cosh(x0))**2)\n",
    "L = 2*np.pi*h/kh\n",
    "print(f\"L = {L:.4f} m\")\n",
    "\n",
    "# 誤差百分比 (精確解 L = 92.373)\n",
    "err = np.abs(L-92.373)/92.373 * 100\n",
    "print(f\"Relative error of L = {err:.2f}%\")"
   ]
  },
  {
   "cell_type": "markdown",
   "id": "dc2aaa8a",
   "metadata": {
    "slideshow": {
     "slide_type": "subslide"
    }
   },
   "source": [
    "### Note: 在 Newton-Raphson 法中使用 $k_0h$ 作為初始猜值\n",
    "\n",
    "* 以下程式為令 $x_0 = k_0h$ 作為初始猜值，以 Newton-Raphon 法進行一次疊代。\n",
    "* 結果發現誤差達 8.71%，比 Eckart (1951) 之解還差。\n",
    "* 代表若初始猜值距離精確解較遠時，需要多次疊代方可收斂。"
   ]
  },
  {
   "cell_type": "code",
   "execution_count": 5,
   "id": "56c9565c",
   "metadata": {
    "slideshow": {
     "slide_type": "subslide"
    }
   },
   "outputs": [
    {
     "name": "stdout",
     "output_type": "stream",
     "text": [
      "L = 84.3256 m\n",
      "Relative error of L = 8.71%\n"
     ]
    }
   ],
   "source": [
    "# Wave condition and parameters\n",
    "g = 9.81\n",
    "T = 10\n",
    "h = 10\n",
    "omega = 2*np.pi/T\n",
    "\n",
    "# Deep water wave number\n",
    "k0 = 4*np.pi**2/(g*T**2)  \n",
    "x0 = k0*h\n",
    "\n",
    "# Iteration using Newton-Raphson method\n",
    "kh = x0 * (k0*h + (x0/np.cosh(x0))**2)/(x0*np.tanh(x0)+(x0/np.cosh(x0))**2)\n",
    "L = 2*np.pi*h/kh\n",
    "print(f\"L = {L:.4f} m\")\n",
    "\n",
    "# 誤差百分比 (精確解 L = 92.373)\n",
    "err = np.abs(L-92.373)/92.373 * 100\n",
    "print(f\"Relative error of L = {err:.2f}%\")"
   ]
  },
  {
   "cell_type": "markdown",
   "id": "96e78cf0",
   "metadata": {
    "slideshow": {
     "slide_type": "subslide"
    }
   },
   "source": [
    "## 2. Fenton & McKee (1990) 提出之近似解\n",
    "\n",
    "\\begin{equation}\n",
    "L = \\frac{gT^2}{2\\pi}\\left[\\tanh\\left(\\frac{\\omega^2h}{g}\\right)^{3/4}\\right]^{2/3}\n",
    "\\end{equation}\n",
    "\n",
    "Source: Fenton, J. D. & McKee, W. D. (1990) On calculating the lengths of water waves, Coastal Engineering 14, 499–513."
   ]
  },
  {
   "cell_type": "markdown",
   "id": "2fd3d61e",
   "metadata": {},
   "source": [
    "### 測試例\n",
    "T = 10 s, h = 10 m, 精確解為 L = 92.373 m。上式之近似解為"
   ]
  },
  {
   "cell_type": "code",
   "execution_count": 5,
   "id": "a7390543",
   "metadata": {
    "slideshow": {
     "slide_type": "subslide"
    }
   },
   "outputs": [
    {
     "name": "stdout",
     "output_type": "stream",
     "text": [
      "L = 93.8785 m\n",
      "Relative error of L = 1.63%\n"
     ]
    }
   ],
   "source": [
    "# Wave condition and parameters\n",
    "g = 9.81\n",
    "T = 10\n",
    "h = 10\n",
    "omega = 2*np.pi/T\n",
    "\n",
    "# Approximation solution by Eckart (1951) \n",
    "L = g*T**2/(2*np.pi) * (np.tanh((omega**2*h/g)**(3/4)))**(2/3)\n",
    "print(f\"L = {L:.4f} m\")\n",
    "\n",
    "# 誤差百分比 (精確解 L = 92.373)\n",
    "err = np.abs(L-92.373)/92.373 * 100\n",
    "print(f\"Relative error of L = {err:.2f}%\")"
   ]
  },
  {
   "cell_type": "markdown",
   "id": "e9445eeb",
   "metadata": {
    "slideshow": {
     "slide_type": "subslide"
    }
   },
   "source": [
    "## 3. Guo (2002) 提出之近似解\n",
    "\n",
    "\\begin{equation}\n",
    "k = \\frac{\\omega^2}{g}\\left[1-e^{-(\\omega\\sqrt{h/g})^{5/2}} \\right]^{-2/5}\n",
    "\\end{equation}\n",
    "\n",
    "Source: Guo, J. (2002) Simple and explicit solution of wave dispersion equation, Coastal Engineering 45, 71–74."
   ]
  },
  {
   "cell_type": "markdown",
   "id": "5732454f",
   "metadata": {},
   "source": [
    "### 測試例\n",
    "T = 10 s, h = 10 m, 精確解為 L = 92.373 m。上式之近似解為"
   ]
  },
  {
   "cell_type": "code",
   "execution_count": 7,
   "id": "c34a366f",
   "metadata": {},
   "outputs": [
    {
     "name": "stdout",
     "output_type": "stream",
     "text": [
      "L = 93.0544 m\n",
      "Relative error of L = 0.74%\n"
     ]
    }
   ],
   "source": [
    "# Wave condition and parameters\n",
    "g = 9.81\n",
    "T = 10\n",
    "h = 10\n",
    "omega = 2*np.pi/T\n",
    "\n",
    "# Approximation solution by Eckart (1951) \n",
    "k = omega**2/g * (1-np.exp(-(omega*np.sqrt(h/g))**(5/2)))**(-2/5)\n",
    "L = 2*np.pi/k\n",
    "print(f\"L = {L:.4f} m\")\n",
    "\n",
    "# 誤差百分比 (精確解 L = 92.373)\n",
    "err = np.abs(L-92.373)/92.373 * 100\n",
    "print(f\"Relative error of L = {err:.2f}%\")"
   ]
  },
  {
   "cell_type": "markdown",
   "id": "7ff73f06",
   "metadata": {
    "slideshow": {
     "slide_type": "slide"
    }
   },
   "source": [
    "# 使用 Newton Raphson 法求解頻散關係式 (最精確解)\n",
    "\n",
    "source: https://github.com/pyoceans/python-oceans"
   ]
  },
  {
   "cell_type": "markdown",
   "id": "6d99e98f",
   "metadata": {},
   "source": [
    "使用方式 (詳見程式內註解)：\n",
    "1. 先載入 `class Waves` (在同個 Jupyter Notebook 中載入一次即可)。\n",
    "2. 呼叫 `Waves` 並輸入水深 `h` 與週期 `T`，即可輸出波長、波速、群速等值。\n",
    "3. 亦可輸入水深 `h`、波長 `L` 以計算週期。"
   ]
  },
  {
   "cell_type": "code",
   "execution_count": 6,
   "id": "d4e2d008",
   "metadata": {
    "slideshow": {
     "slide_type": "subslide"
    }
   },
   "outputs": [],
   "source": [
    "class Waves:\n",
    "    r\"\"\"\n",
    "    Solves the wave dispersion relationship via Newton-Raphson.\n",
    "\n",
    "    .. math::\n",
    "        \\omega^2 = gk\\tanh kh\n",
    "\n",
    "    Parameters\n",
    "    ----------\n",
    "    h : array_like, str\n",
    "        Water depth [m] or 'deep', 'shallow' as keywords\n",
    "    T : array_like\n",
    "        Wave period [s]\n",
    "    L : array_like\n",
    "        Wave length [m]\n",
    "    thetao : array_like\n",
    "        TODO\n",
    "    Ho : array_like\n",
    "        TODO\n",
    "\n",
    "    Returns\n",
    "    -------\n",
    "    omega : array_like\n",
    "            Wave frequency\n",
    "    TODO: hoLo, hoL, Lo, L, k, T, Co, C, Cg, G, Ks, Kr, theta, H\n",
    "\n",
    "    Notes\n",
    "    -----\n",
    "    Compare values with:\n",
    "    http://www.coastal.udel.edu/faculty/rad/wavetheory.html\n",
    "\n",
    "    Examples\n",
    "    --------\n",
    "    >>> from oceans.sw_extras.waves import Waves\n",
    "    >>> wav = Waves(h=10, T=5, L=None)\n",
    "    >>> print(f\"ho/Lo = {wav.hoLo:.3f}\")\n",
    "    ho/Lo = 0.256\n",
    "    >>> print(f\"ho/L  = {wav.hoL:.3f}\")\n",
    "    ho/L  = 0.273\n",
    "    >>> print(f\"Lo    = {wav.Lo:.3f}\")\n",
    "    Lo    = 39.033\n",
    "    >>> print(f\"L     = {wav.L:.3f}\")\n",
    "    L     = 36.593\n",
    "    >>> print(f\"k     = {wav.k:.3f}\")\n",
    "    k     = 0.172\n",
    "    >>> print(f\"omega = {wav.omega:.3f}\")\n",
    "    omega = 1.257\n",
    "    >>> print(f\"T     = {wav.T:.3f}\")\n",
    "    T     = 5.000\n",
    "    >>> print(f\"C     = {wav.C:.3f}\")\n",
    "    C     = 7.319\n",
    "    >>> print(f\"Cg    = {wav.Cg:.3f}\")\n",
    "    Cg    = 4.471\n",
    "    >>> print(f\"G     = {wav.G:.3f}\")\n",
    "    G     = 0.222\n",
    "    >>> wav = Waves(h=10, T=None, L=100)\n",
    "    >>> print(f\"ho/Lo = {wav.hoLo:.3f}\")\n",
    "    ho/Lo = 0.056\n",
    "    >>> print(f\"ho/L  = {wav.hoL:.3f}\")\n",
    "    ho/L  = 0.100\n",
    "    >>> print(f\"Lo    = {wav.Lo:.3f}\")\n",
    "    Lo    = 179.568\n",
    "    >>> print(f\"L     = {wav.L:.3f}\")\n",
    "    L     = 100.000\n",
    "    >>> print(f\"k     = {wav.k:.3f}\")\n",
    "    k     = 0.063\n",
    "    >>> print(f\"omega = {wav.omega:.3f}\")\n",
    "    omega = 0.586\n",
    "    >>> print(f\"T     = {wav.T:.3f}\")\n",
    "    T     = 10.724\n",
    "    >>> print(f\"C     = {wav.C:.3f}\")\n",
    "    C     = 9.325\n",
    "    >>> print(f\"Cg    = {wav.Cg:.3f}\")\n",
    "    Cg    = 8.291\n",
    "    >>> print(f\"G     = {wav.G:.3f}\")\n",
    "    G     = 0.778\n",
    "    >>> print(f\"Ks  = {wav.Ks:.3f}\")\n",
    "    Ks  = 1.005\n",
    "\n",
    "    \"\"\"\n",
    "\n",
    "    def __init__(self, h, T=None, L=None, thetao=None, Ho=None, lat=None):\n",
    "        self.T = np.asarray(T, dtype=np.float64)\n",
    "        self.L = np.asarray(L, dtype=np.float64)\n",
    "        self.Ho = np.asarray(Ho, dtype=np.float64)\n",
    "        self.lat = np.asarray(lat, dtype=np.float64)\n",
    "        self.thetao = np.asarray(thetao, dtype=np.float64)\n",
    "\n",
    "        if isinstance(h, str):\n",
    "            if L is not None:\n",
    "                if h == \"deep\":\n",
    "                    self.h = self.L / 2.0\n",
    "                elif h == \"shallow\":\n",
    "                    self.h = self.L * 0.05\n",
    "        else:\n",
    "            self.h = np.asarray(h, dtype=np.float64)\n",
    "\n",
    "        g = 9.81  # Default gravity.\n",
    "\n",
    "        if L is None:\n",
    "            self.omega = 2 * np.pi / self.T\n",
    "            self.Lo = (g * self.T**2) / 2 / np.pi\n",
    "            # Returns wavenumber of the gravity wave dispersion relation using\n",
    "            # newtons method. The initial guess is shallow water wavenumber.\n",
    "            self.k = self.omega / np.sqrt(g)\n",
    "            # TODO: May change to,\n",
    "            # self.k = self.w ** 2 / (g * np.sqrt(self.w ** 2 * self.h / g))\n",
    "            f = g * self.k * np.tanh(self.k * self.h) - self.omega**2\n",
    "\n",
    "            while np.abs(f.max()) > 1e-10:\n",
    "                dfdk = g * self.k * self.h * (\n",
    "                    1 / (np.cosh(self.k * self.h))\n",
    "                ) ** 2 + g * np.tanh(self.k * self.h)\n",
    "                self.k = self.k - f / dfdk\n",
    "                # FIXME:\n",
    "                f = g * self.k * np.tanh(self.k * self.h) - self.omega**2\n",
    "\n",
    "            self.L = 2 * np.pi / self.k\n",
    "            if isinstance(h, str):\n",
    "                if h == \"deep\":\n",
    "                    self.h = self.L / 2.0\n",
    "                elif h == \"shallow\":\n",
    "                    self.h = self.L * 0.05\n",
    "        else:\n",
    "            self.Lo = self.L / np.tanh(2 * np.pi * self.h / self.L)\n",
    "            self.k = 2 * np.pi / self.L\n",
    "            self.T = np.sqrt(2 * np.pi * self.Lo / g)\n",
    "            self.omega = 2 * np.pi / self.T\n",
    "\n",
    "        self.hoL = self.h / self.L\n",
    "        self.hoLo = self.h / self.Lo\n",
    "        self.C = self.omega / self.k  # or L / T\n",
    "        self.Co = self.Lo / self.T\n",
    "        self.G = 2 * self.k * self.h / np.sinh(2 * self.k * self.h)\n",
    "        self.n = (1 + self.G) / 2\n",
    "        self.Cg = self.n * self.C\n",
    "        self.Ks = np.sqrt(1 / (1 + self.G) / np.tanh(self.k * self.h))\n",
    "\n",
    "        if thetao is None:\n",
    "            self.theta = np.NaN\n",
    "            self.Kr = np.NaN\n",
    "        if thetao is not None:\n",
    "            self.theta = np.rad2deg(\n",
    "                np.asin(self.C / self.Co * np.sin(np.deg2rad(self.thetao))),\n",
    "            )\n",
    "            self.Kr = np.sqrt(\n",
    "                np.cos(np.deg2rad(self.thetao)) / np.cos(np.deg2rad(self.theta)),\n",
    "            )\n",
    "\n",
    "        if Ho is None:\n",
    "            self.H = np.NaN\n",
    "        if Ho is not None:\n",
    "            self.H = self.Ho * self.Ks * self.Kr"
   ]
  },
  {
   "cell_type": "markdown",
   "id": "b8469321",
   "metadata": {
    "slideshow": {
     "slide_type": "subslide"
    }
   },
   "source": [
    "### 範例一\n",
    "計算 h = 10 m, T = 10 s 之波長 L, 波速 C 與群速 Cg："
   ]
  },
  {
   "cell_type": "code",
   "execution_count": 7,
   "id": "b2d52d63",
   "metadata": {},
   "outputs": [
    {
     "data": {
      "text/plain": [
       "92.37387271170788"
      ]
     },
     "execution_count": 7,
     "metadata": {},
     "output_type": "execute_result"
    }
   ],
   "source": [
    "wav = Waves(h=10, T=10, L=None)  # 未知數需輸入 None\n",
    "wav.L                            # wave.L 代表輸出波長"
   ]
  },
  {
   "cell_type": "code",
   "execution_count": 8,
   "id": "9052a38b",
   "metadata": {},
   "outputs": [
    {
     "data": {
      "text/plain": [
       "9.237387271170787"
      ]
     },
     "execution_count": 8,
     "metadata": {},
     "output_type": "execute_result"
    }
   ],
   "source": [
    "wav.C   # 波速"
   ]
  },
  {
   "cell_type": "code",
   "execution_count": 9,
   "id": "2e9a649a",
   "metadata": {},
   "outputs": [
    {
     "data": {
      "text/plain": [
       "8.06993413970063"
      ]
     },
     "execution_count": 9,
     "metadata": {},
     "output_type": "execute_result"
    }
   ],
   "source": [
    "wav.Cg  # 群速"
   ]
  },
  {
   "cell_type": "markdown",
   "id": "7412c9c1",
   "metadata": {
    "slideshow": {
     "slide_type": "subslide"
    }
   },
   "source": [
    "或是使用 `print` 指令做較詳盡的輸出："
   ]
  },
  {
   "cell_type": "code",
   "execution_count": 10,
   "id": "3e79fe76",
   "metadata": {},
   "outputs": [
    {
     "name": "stdout",
     "output_type": "stream",
     "text": [
      "L  = 92.374 m\n",
      "C  = 9.237 m/s\n",
      "Cg = 8.070 m/s\n"
     ]
    }
   ],
   "source": [
    "wav = Waves(h=10, T=10, L=None)\n",
    "print(f\"L  = {wav.L:.3f} m\")\n",
    "print(f\"C  = {wav.C:.3f} m/s\")\n",
    "print(f\"Cg = {wav.Cg:.3f} m/s\")"
   ]
  },
  {
   "cell_type": "markdown",
   "id": "39622a57",
   "metadata": {
    "slideshow": {
     "slide_type": "subslide"
    }
   },
   "source": [
    "### 範例二\n",
    "計算 h = 10 m, L = 92.374 m 之週期 T:"
   ]
  },
  {
   "cell_type": "code",
   "execution_count": 11,
   "id": "36e1210c",
   "metadata": {},
   "outputs": [
    {
     "name": "stdout",
     "output_type": "stream",
     "text": [
      "T  = 10.000 s\n"
     ]
    }
   ],
   "source": [
    "wav = Waves(h=10, T=None, L=92.374)\n",
    "print(f\"T  = {wav.T:.3f} s\")"
   ]
  },
  {
   "cell_type": "markdown",
   "id": "6646de52",
   "metadata": {
    "slideshow": {
     "slide_type": "subslide"
    }
   },
   "source": [
    "### 範例三\n",
    "計算深水處 h = 100 m, T = 10 s 之波長 L:"
   ]
  },
  {
   "cell_type": "code",
   "execution_count": 12,
   "id": "2b462a9f",
   "metadata": {
    "slideshow": {
     "slide_type": "-"
    }
   },
   "outputs": [
    {
     "name": "stdout",
     "output_type": "stream",
     "text": [
      "L = 156.032 m\n"
     ]
    }
   ],
   "source": [
    "wav = Waves(h=100, T=10, L=None)\n",
    "print(f\"L = {wav.L:.3f} m\")"
   ]
  },
  {
   "cell_type": "markdown",
   "id": "1edb3637",
   "metadata": {
    "slideshow": {
     "slide_type": "subslide"
    }
   },
   "source": [
    "### 範例四\n",
    "計算淺水處 h = 2.3 m, T = 10 s 之波長 L："
   ]
  },
  {
   "cell_type": "code",
   "execution_count": 13,
   "id": "044355ba",
   "metadata": {},
   "outputs": [
    {
     "name": "stdout",
     "output_type": "stream",
     "text": [
      "L = 46.767 m\n"
     ]
    }
   ],
   "source": [
    "wav = Waves(h=2.3, T=10, L=None)\n",
    "print(f\"L = {wav.L:.3f} m\")"
   ]
  }
 ],
 "metadata": {
  "celltoolbar": "Slideshow",
  "kernelspec": {
   "display_name": "Python 3 (ipykernel)",
   "language": "python",
   "name": "python3"
  },
  "language_info": {
   "codemirror_mode": {
    "name": "ipython",
    "version": 3
   },
   "file_extension": ".py",
   "mimetype": "text/x-python",
   "name": "python",
   "nbconvert_exporter": "python",
   "pygments_lexer": "ipython3",
   "version": "3.10.9"
  }
 },
 "nbformat": 4,
 "nbformat_minor": 5
}

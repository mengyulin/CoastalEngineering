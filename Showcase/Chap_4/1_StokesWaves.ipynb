{
 "cells": [
  {
   "cell_type": "markdown",
   "id": "2bd616df",
   "metadata": {
    "slideshow": {
     "slide_type": "slide"
    }
   },
   "source": [
    "[![Open In Colab](https://colab.research.google.com/assets/colab-badge.svg)](https://colab.research.google.com/github/mengyulin/CoastalEngineering/blob/master/Showcase/Chap_4/1_StokesWaves.ipynb)\n",
    "\n",
    "## 載入 Python 函式庫"
   ]
  },
  {
   "cell_type": "code",
   "execution_count": 1,
   "id": "dedbd39e",
   "metadata": {
    "slideshow": {
     "slide_type": "-"
    }
   },
   "outputs": [],
   "source": [
    "%matplotlib inline\n",
    "\n",
    "import numpy as np\n",
    "import matplotlib.pyplot as plt"
   ]
  },
  {
   "cell_type": "code",
   "execution_count": 2,
   "id": "9eb29f2b",
   "metadata": {
    "slideshow": {
     "slide_type": "-"
    }
   },
   "outputs": [],
   "source": [
    "from ipywidgets import interact"
   ]
  },
  {
   "cell_type": "markdown",
   "id": "5aa01f18",
   "metadata": {},
   "source": [
    "## 載入 Waves 模組 (求解頻散關係式)"
   ]
  },
  {
   "cell_type": "code",
   "execution_count": 3,
   "id": "d4e2d008",
   "metadata": {
    "slideshow": {
     "slide_type": "subslide"
    }
   },
   "outputs": [],
   "source": [
    "class Waves:\n",
    "    r\"\"\"\n",
    "    Solves the wave dispersion relationship via Newton-Raphson.\n",
    "\n",
    "    .. math::\n",
    "        \\omega^2 = gk\\tanh kh\n",
    "\n",
    "    Parameters\n",
    "    ----------\n",
    "    h : array_like, str\n",
    "        Water depth [m] or 'deep', 'shallow' as keywords\n",
    "    T : array_like\n",
    "        Wave period [s]\n",
    "    L : array_like\n",
    "        Wave length [m]\n",
    "    thetao : array_like\n",
    "        TODO\n",
    "    Ho : array_like\n",
    "        TODO\n",
    "\n",
    "    Returns\n",
    "    -------\n",
    "    omega : array_like\n",
    "            Wave frequency\n",
    "    TODO: hoLo, hoL, Lo, L, k, T, Co, C, Cg, G, Ks, Kr, theta, H\n",
    "\n",
    "    Notes\n",
    "    -----\n",
    "    Compare values with:\n",
    "    http://www.coastal.udel.edu/faculty/rad/wavetheory.html\n",
    "\n",
    "    Examples\n",
    "    --------\n",
    "    >>> from oceans.sw_extras.waves import Waves\n",
    "    >>> wav = Waves(h=10, T=5, L=None)\n",
    "    >>> print(f\"ho/Lo = {wav.hoLo:.3f}\")\n",
    "    ho/Lo = 0.256\n",
    "    >>> print(f\"ho/L  = {wav.hoL:.3f}\")\n",
    "    ho/L  = 0.273\n",
    "    >>> print(f\"Lo    = {wav.Lo:.3f}\")\n",
    "    Lo    = 39.033\n",
    "    >>> print(f\"L     = {wav.L:.3f}\")\n",
    "    L     = 36.593\n",
    "    >>> print(f\"k     = {wav.k:.3f}\")\n",
    "    k     = 0.172\n",
    "    >>> print(f\"omega = {wav.omega:.3f}\")\n",
    "    omega = 1.257\n",
    "    >>> print(f\"T     = {wav.T:.3f}\")\n",
    "    T     = 5.000\n",
    "    >>> print(f\"C     = {wav.C:.3f}\")\n",
    "    C     = 7.319\n",
    "    >>> print(f\"Cg    = {wav.Cg:.3f}\")\n",
    "    Cg    = 4.471\n",
    "    >>> print(f\"G     = {wav.G:.3f}\")\n",
    "    G     = 0.222\n",
    "    >>> wav = Waves(h=10, T=None, L=100)\n",
    "    >>> print(f\"ho/Lo = {wav.hoLo:.3f}\")\n",
    "    ho/Lo = 0.056\n",
    "    >>> print(f\"ho/L  = {wav.hoL:.3f}\")\n",
    "    ho/L  = 0.100\n",
    "    >>> print(f\"Lo    = {wav.Lo:.3f}\")\n",
    "    Lo    = 179.568\n",
    "    >>> print(f\"L     = {wav.L:.3f}\")\n",
    "    L     = 100.000\n",
    "    >>> print(f\"k     = {wav.k:.3f}\")\n",
    "    k     = 0.063\n",
    "    >>> print(f\"omega = {wav.omega:.3f}\")\n",
    "    omega = 0.586\n",
    "    >>> print(f\"T     = {wav.T:.3f}\")\n",
    "    T     = 10.724\n",
    "    >>> print(f\"C     = {wav.C:.3f}\")\n",
    "    C     = 9.325\n",
    "    >>> print(f\"Cg    = {wav.Cg:.3f}\")\n",
    "    Cg    = 8.291\n",
    "    >>> print(f\"G     = {wav.G:.3f}\")\n",
    "    G     = 0.778\n",
    "    >>> print(f\"Ks  = {wav.Ks:.3f}\")\n",
    "    Ks  = 1.005\n",
    "\n",
    "    \"\"\"\n",
    "\n",
    "    def __init__(self, h, T=None, L=None, thetao=None, Ho=None, lat=None):\n",
    "        self.T = np.asarray(T, dtype=np.float64)\n",
    "        self.L = np.asarray(L, dtype=np.float64)\n",
    "        self.Ho = np.asarray(Ho, dtype=np.float64)\n",
    "        self.lat = np.asarray(lat, dtype=np.float64)\n",
    "        self.thetao = np.asarray(thetao, dtype=np.float64)\n",
    "\n",
    "        if isinstance(h, str):\n",
    "            if L is not None:\n",
    "                if h == \"deep\":\n",
    "                    self.h = self.L / 2.0\n",
    "                elif h == \"shallow\":\n",
    "                    self.h = self.L * 0.05\n",
    "        else:\n",
    "            self.h = np.asarray(h, dtype=np.float64)\n",
    "\n",
    "        g = 9.81  # Default gravity.\n",
    "\n",
    "        if L is None:\n",
    "            self.omega = 2 * np.pi / self.T\n",
    "            self.Lo = (g * self.T**2) / 2 / np.pi\n",
    "            # Returns wavenumber of the gravity wave dispersion relation using\n",
    "            # newtons method. The initial guess is shallow water wavenumber.\n",
    "            self.k = self.omega / np.sqrt(g)\n",
    "            # TODO: May change to,\n",
    "            # self.k = self.w ** 2 / (g * np.sqrt(self.w ** 2 * self.h / g))\n",
    "            f = g * self.k * np.tanh(self.k * self.h) - self.omega**2\n",
    "\n",
    "            while np.abs(f.max()) > 1e-10:\n",
    "                dfdk = g * self.k * self.h * (\n",
    "                    1 / (np.cosh(self.k * self.h))\n",
    "                ) ** 2 + g * np.tanh(self.k * self.h)\n",
    "                self.k = self.k - f / dfdk\n",
    "                # FIXME:\n",
    "                f = g * self.k * np.tanh(self.k * self.h) - self.omega**2\n",
    "\n",
    "            self.L = 2 * np.pi / self.k\n",
    "            if isinstance(h, str):\n",
    "                if h == \"deep\":\n",
    "                    self.h = self.L / 2.0\n",
    "                elif h == \"shallow\":\n",
    "                    self.h = self.L * 0.05\n",
    "        else:\n",
    "            self.Lo = self.L / np.tanh(2 * np.pi * self.h / self.L)\n",
    "            self.k = 2 * np.pi / self.L\n",
    "            self.T = np.sqrt(2 * np.pi * self.Lo / g)\n",
    "            self.omega = 2 * np.pi / self.T\n",
    "\n",
    "        self.hoL = self.h / self.L\n",
    "        self.hoLo = self.h / self.Lo\n",
    "        self.C = self.omega / self.k  # or L / T\n",
    "        self.Co = self.Lo / self.T\n",
    "        self.G = 2 * self.k * self.h / np.sinh(2 * self.k * self.h)\n",
    "        self.n = (1 + self.G) / 2\n",
    "        self.Cg = self.n * self.C\n",
    "        self.Ks = np.sqrt(1 / (1 + self.G) / np.tanh(self.k * self.h))\n",
    "\n",
    "        if thetao is None:\n",
    "            self.theta = np.NaN\n",
    "            self.Kr = np.NaN\n",
    "        if thetao is not None:\n",
    "            self.theta = np.rad2deg(\n",
    "                np.asin(self.C / self.Co * np.sin(np.deg2rad(self.thetao))),\n",
    "            )\n",
    "            self.Kr = np.sqrt(\n",
    "                np.cos(np.deg2rad(self.thetao)) / np.cos(np.deg2rad(self.theta)),\n",
    "            )\n",
    "\n",
    "        if Ho is None:\n",
    "            self.H = np.NaN\n",
    "        if Ho is not None:\n",
    "            self.H = self.Ho * self.Ks * self.Kr"
   ]
  },
  {
   "cell_type": "markdown",
   "id": "818e4884",
   "metadata": {
    "slideshow": {
     "slide_type": "slide"
    }
   },
   "source": [
    "# Stokes Waves\n",
    "\n",
    "## 波形函數\n",
    "\n",
    "Stokes 理論二階解之水面波形\n",
    "\\begin{align}\n",
    "\\eta = &\\frac{H}{2}\\cos (kx-\\omega t)\\nonumber\\\\\n",
    "\\label{eq:2}\n",
    "&+\\frac{\\pi H}{8}\\left(\\frac{H}{L}\\right)\\frac{\\cosh kh(2+\\cosh 2kh)}{\\sinh^{3} kh}\\cos 2(kx-\\omega t)\n",
    "\\end{align}\n",
    "其中\n",
    "* $H$: 波高\n",
    "* $k = 2\\pi/L$: 波數\n",
    "* $L$: 波長\n",
    "* $\\omega = 2\\pi/T$: 角頻率\n",
    "* $T$: 波週期"
   ]
  },
  {
   "cell_type": "markdown",
   "id": "e9717ffb",
   "metadata": {
    "slideshow": {
     "slide_type": "subslide"
    }
   },
   "source": [
    "## 不同波高之水面波形\n",
    "\n",
    "週期 7 s 的水波，水深為 30 m。"
   ]
  },
  {
   "cell_type": "code",
   "execution_count": 4,
   "id": "bf3a662c",
   "metadata": {
    "slideshow": {
     "slide_type": "subslide"
    }
   },
   "outputs": [],
   "source": [
    "T = 7.0\n",
    "h = 30.0\n",
    "wav = Waves(h=10, T=5, L=None)\n",
    "k = wav.k\n",
    "L = wav.L\n",
    "x = np.linspace(0, 2*L, 500)\n",
    "\n",
    "\n",
    "def myplot(H=1):\n",
    "    y = (H/2) * np.cos(k*x) + (np.pi*H/8)*(H/L)*((np.cosh(k*h)*(2+np.cosh(2*k*h)))/(np.sinh(k*h))**3)*np.cos(2*k*x)\n",
    "    plt.plot(x, y/H)\n",
    "    plt.xlabel(\"x\")\n",
    "    plt.ylabel(\"$\\eta/H$\")\n",
    "    plt.ylim(-1.0, 1.0)\n",
    "    major_ticks = np.arange(-1, 2, 1)\n",
    "    plt.yticks(major_ticks)\n",
    "    plt.grid(axis='y')\n",
    "    plt.rcParams['figure.figsize'] = [6, 4]\n",
    "    plt.rcParams['figure.dpi'] = 100"
   ]
  },
  {
   "cell_type": "code",
   "execution_count": 5,
   "id": "136caccf",
   "metadata": {
    "scrolled": true,
    "slideshow": {
     "slide_type": "subslide"
    }
   },
   "outputs": [
    {
     "data": {
      "application/vnd.jupyter.widget-view+json": {
       "model_id": "98abf134efe74dfe92b1f8a7dd510aae",
       "version_major": 2,
       "version_minor": 0
      },
      "text/plain": [
       "interactive(children=(FloatSlider(value=1.0, description='H', max=15.0, min=1.0), Output()), _dom_classes=('wi…"
      ]
     },
     "metadata": {},
     "output_type": "display_data"
    },
    {
     "data": {
      "text/plain": [
       "<function __main__.myplot(H=1)>"
      ]
     },
     "execution_count": 5,
     "metadata": {},
     "output_type": "execute_result"
    }
   ],
   "source": [
    "interact(myplot, H=(1., 15.))"
   ]
  },
  {
   "cell_type": "code",
   "execution_count": 7,
   "id": "16023c6e",
   "metadata": {},
   "outputs": [
    {
     "data": {
      "text/plain": [
       "0.16396413862706075"
      ]
     },
     "execution_count": 7,
     "metadata": {},
     "output_type": "execute_result"
    }
   ],
   "source": [
    "6/L"
   ]
  },
  {
   "cell_type": "code",
   "execution_count": 8,
   "id": "2b892408",
   "metadata": {},
   "outputs": [
    {
     "data": {
      "text/plain": [
       "0.8198206931353037"
      ]
     },
     "execution_count": 8,
     "metadata": {},
     "output_type": "execute_result"
    }
   ],
   "source": [
    "h/L"
   ]
  },
  {
   "cell_type": "markdown",
   "id": "531c29b1",
   "metadata": {},
   "source": [
    "## 水粒子軌跡\n",
    "\n",
    "\\begin{align}\n",
    "x = &x_1 -\\frac{H}{2}\\frac{\\cosh k(h+z_1)}{\\sinh kh}\\sin(kx_1-\\omega t)\\nonumber\\\\\n",
    "&+\\frac{\\pi H^{2}}{8L\\sinh^{2}(kh)}\\left(1-\\frac{3\\cosh 2k(h+z_1)}{2\\sinh^{2}(kh)}\n",
    "\\right)\\sin 2(kx_1-\\omega t)\\nonumber\\\\\n",
    "&+\\frac{\\pi H^{2}}{4L}\\frac{\\cosh 2k(h+z_1)}{\\sinh^{2}(kh)}\\omega t\n",
    "\\end{align}\n",
    "\\begin{align}\n",
    "z = &z_1 + \\frac{H}{2}\\frac{\\sinh k(h+z_1)}{\\sinh kh}\\cos (kx_1-\\omega t)\\nonumber\\\\\n",
    "\\label{eq:12}\n",
    "&+\\frac{3\\pi H^{2}}{16L}\\frac{\\sinh 2k(h+z_1)}{\\sinh^{4}(kh)}\\cos 2(kx_1-\\omega t)\n",
    "\\end{align}\n"
   ]
  },
  {
   "cell_type": "markdown",
   "id": "c373ad8e",
   "metadata": {},
   "source": [
    "### 水粒子軌跡座標函式"
   ]
  },
  {
   "cell_type": "code",
   "execution_count": 9,
   "id": "9993002d",
   "metadata": {},
   "outputs": [],
   "source": [
    "def StokesParticleTrajectory(x1,z1,t):\n",
    "    x = x1 - H/2 * np.cosh(k*(h+z1))/np.sinh(k*h) * np.sin(k*x1-omega*t) \\\n",
    "    + (np.pi*H**2)/(8*L*(np.sinh(k*h))**2)*(1-(2*np.cosh(2*k*(h+z1)))/(2*(np.sinh(k*h))**2))*np.sin(k*x1-omega*t) \\\n",
    "    + (np.pi*H**2)/(4*L)*(np.cosh(2*k*(h+z1)))/(np.sinh(k*h))**2*omega*t\n",
    "    z = z1 + H/2 * np.sinh(k*(h+z1))/np.sinh(k*h) * np.cos(k*x1-omega*t) \\\n",
    "    + (3*np.pi*H**2)/(16*L)*(np.sinh(2*k*(h+z1)))/(np.sinh(k*h))**4 * np.cos(2*(k*x1-omega*t))\n",
    "    \n",
    "    return x, z"
   ]
  },
  {
   "cell_type": "markdown",
   "id": "f60d2dcf",
   "metadata": {},
   "source": [
    "### 水面波形"
   ]
  },
  {
   "cell_type": "code",
   "execution_count": 10,
   "id": "655eea96",
   "metadata": {},
   "outputs": [],
   "source": [
    "def eta(x,t):\n",
    "    return (H/2) * np.cos(k*x-omega*t) + (np.pi*H/8)*(H/L)*((np.cosh(k*h)*(2+np.cosh(2*k*h))) \\\n",
    "                                                            /(np.sinh(k*h))**3)*np.cos(2*(k*x-omega*t))"
   ]
  },
  {
   "cell_type": "markdown",
   "id": "affd171c",
   "metadata": {},
   "source": [
    "一個波高 6 m 高、週期 7 s 的水波，水深為 30 m。"
   ]
  },
  {
   "cell_type": "code",
   "execution_count": 11,
   "id": "8a0b6155",
   "metadata": {},
   "outputs": [],
   "source": [
    "H = 6                           # wave height\n",
    "h = 30                          # water depth\n",
    "T = 7                           # wave period\n",
    "omega = 2*np.pi/T               # angular frequency\n",
    "wav = Waves(h, T, L=None)       # class Waves\n",
    "k = wav.k                       # wave number\n",
    "L = wav.L                       # wavelength"
   ]
  },
  {
   "cell_type": "code",
   "execution_count": 12,
   "id": "eb2fdea5",
   "metadata": {},
   "outputs": [
    {
     "data": {
      "image/png": "[encoded data removed]",
      "text/plain": [
       "<Figure size 1500x600 with 1 Axes>"
      ]
     },
     "metadata": {
      "needs_background": "light"
     },
     "output_type": "display_data"
    }
   ],
   "source": [
    "t = np.linspace(0, T, 50)\n",
    "x1 = L/4\n",
    "z1 = np.linspace(-h, 0, 6)\n",
    "\n",
    "# Set figure\n",
    "fig4, ax4 = plt.subplots(figsize=(15,6))\n",
    "ax4.set_aspect(\"equal\")\n",
    "ax4.set_xlim(0,L/2)\n",
    "ax4.set_ylim(-h,H)\n",
    "\n",
    "for z2 in z1:\n",
    "    XT, ZT = StokesParticleTrajectory(x1,z2,t)\n",
    "    PT = ax4.plot(XT,ZT,'r')\n",
    "\n",
    "# Plot free surface\n",
    "FS4 = ax4.plot(x,eta(x,T/4))"
   ]
  },
  {
   "cell_type": "code",
   "execution_count": null,
   "id": "f2b277f4",
   "metadata": {},
   "outputs": [],
   "source": []
  }
 ],
 "metadata": {
  "celltoolbar": "Slideshow",
  "kernelspec": {
   "display_name": "Python 3 (ipykernel)",
   "language": "python",
   "name": "python3"
  },
  "language_info": {
   "codemirror_mode": {
    "name": "ipython",
    "version": 3
   },
   "file_extension": ".py",
   "mimetype": "text/x-python",
   "name": "python",
   "nbconvert_exporter": "python",
   "pygments_lexer": "ipython3",
   "version": "3.10.9"
  }
 },
 "nbformat": 4,
 "nbformat_minor": 5
}

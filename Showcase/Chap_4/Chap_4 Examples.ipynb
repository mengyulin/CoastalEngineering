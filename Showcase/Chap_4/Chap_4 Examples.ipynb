{
 "cells": [
  {
   "cell_type": "code",
   "execution_count": 1,
   "id": "c52a1209",
   "metadata": {},
   "outputs": [],
   "source": [
    "import numpy as np\n",
    "import matplotlib.pyplot as plt"
   ]
  },
  {
   "cell_type": "markdown",
   "id": "b3ee4b74",
   "metadata": {},
   "source": [
    "## 例題一"
   ]
  },
  {
   "cell_type": "code",
   "execution_count": 3,
   "id": "ae3568da",
   "metadata": {},
   "outputs": [
    {
     "name": "stdout",
     "output_type": "stream",
     "text": [
      "Small-amplitude theory:\n",
      "-----------------------\n",
      "Wave speed C0 = 10.929\n",
      "Wave length L0 = 76.504\n",
      "\n",
      "Stokes wave theory:\n",
      "-----------------------\n",
      "i = 0, C0 = 11.256\n",
      "i = 1, C0 = 11.404\n",
      "i = 2, C0 = 11.471\n",
      "i = 3, C0 = 11.501\n",
      "i = 4, C0 = 11.515\n",
      "i = 5, C0 = 11.521\n",
      "i = 6, C0 = 11.524\n",
      "i = 7, C0 = 11.525\n",
      "i = 8, C0 = 11.525\n",
      "i = 9, C0 = 11.526\n",
      "i = 10, C0 = 11.526\n",
      "i = 11, C0 = 11.526\n",
      "i = 12, C0 = 11.526\n",
      "i = 13, C0 = 11.526\n",
      "i = 14, C0 = 11.526\n",
      "\n",
      "Wave length L0 = 80.680\n"
     ]
    }
   ],
   "source": [
    "H0 = 6\n",
    "T = 7\n",
    "g = 9.81\n",
    "\n",
    "# 以微小振幅波波速作為初值\n",
    "C0 = g*T/(2*np.pi)\n",
    "L0 = C0*T\n",
    "print('Small-amplitude theory:')\n",
    "print('-----------------------')\n",
    "print(f'Wave speed C0 = {C0:.3f}')\n",
    "print(f'Wave length L0 = {L0:.3f}')\n",
    "\n",
    "# Stokes 波之深水波速疊代\n",
    "print()\n",
    "print('Stokes wave theory:')\n",
    "print('-----------------------')\n",
    "for i in range(15):\n",
    "    C0 = np.sqrt(g*C0*T/(2*np.pi)*(1+(np.pi*H0/(C0*T))**2))\n",
    "    print(f'i = {i}, C0 = {C0:.3f}')\n",
    "\n",
    "# Stokes 波之波長\n",
    "L0 = C0*T\n",
    "print()\n",
    "print(f'Wave length L0 = {L0:.3f}')"
   ]
  },
  {
   "cell_type": "code",
   "execution_count": null,
   "id": "0af96897",
   "metadata": {},
   "outputs": [],
   "source": []
  }
 ],
 "metadata": {
  "kernelspec": {
   "display_name": "Python 3 (ipykernel)",
   "language": "python",
   "name": "python3"
  },
  "language_info": {
   "codemirror_mode": {
    "name": "ipython",
    "version": 3
   },
   "file_extension": ".py",
   "mimetype": "text/x-python",
   "name": "python",
   "nbconvert_exporter": "python",
   "pygments_lexer": "ipython3",
   "version": "3.12.7"
  }
 },
 "nbformat": 4,
 "nbformat_minor": 5
}

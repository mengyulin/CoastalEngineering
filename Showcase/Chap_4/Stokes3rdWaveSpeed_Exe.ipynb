{
 "cells": [
  {
   "cell_type": "markdown",
   "id": "aeb4346b",
   "metadata": {},
   "source": [
    "# Stokes 3rd Order Wave Speed"
   ]
  },
  {
   "cell_type": "code",
   "execution_count": 2,
   "id": "12688328",
   "metadata": {},
   "outputs": [],
   "source": [
    "%matplotlib inline\n",
    "\n",
    "import numpy as np\n",
    "import matplotlib.pyplot as plt"
   ]
  },
  {
   "cell_type": "markdown",
   "id": "c43cf359",
   "metadata": {},
   "source": [
    "## Newton-Raphson 法求解 Stokes 3rd Order 頻散關係"
   ]
  },
  {
   "cell_type": "code",
   "execution_count": 3,
   "id": "b29c56e0",
   "metadata": {},
   "outputs": [],
   "source": [
    "# Wave condition and parameters\n",
    "g = 9.81          # gravity\n",
    "T = 8             # wave period\n",
    "h = 30            # water depth\n",
    "H = 8.5           # wave height\n",
    "a = H/2\n",
    "omega = 2*np.pi/T # wave angular frequency"
   ]
  },
  {
   "cell_type": "code",
   "execution_count": 4,
   "id": "f87c28c5",
   "metadata": {},
   "outputs": [
    {
     "name": "stdout",
     "output_type": "stream",
     "text": [
      "L = 102.278 m/s\n"
     ]
    }
   ],
   "source": [
    "# Initial Guess\n",
    "L = 96.0540\n",
    "k = 2*np.pi/L\n",
    "x = k*h\n",
    "for i in range(100):\n",
    "    alpha = 1/np.tanh(x)\n",
    "    f = g*x*(a**2*x**2*(1.125*(alpha**2 - 1)**2 + alpha**2)/h**2 + 1)\\\n",
    "    *np.tanh(x)/h - omega**2\n",
    "    dfdx = g*x*(1 - np.tanh(x)**2)*(a**2*x**2*(1.125*(alpha**2 - 1)**2 \\\n",
    "        + alpha**2)/h**2 + 1)/h + g*x*(a**2*x**2*(-4.5*(alpha**2 - 1) \\\n",
    "        *alpha/np.sinh(x)**2 - 2*alpha/np.sinh(x)**2)/h**2 + \\\n",
    "        2*a**2*x*(1.125*(alpha**2 - 1)**2 + alpha**2)/h**2)*np.tanh(x)/h \\\n",
    "        + g*(a**2*x**2*(1.125*(alpha**2 - 1)**2 + alpha**2)/h**2 + 1)*np.tanh(x)/h\n",
    "    x = x - f/dfdx\n",
    "\n",
    "k = x/h\n",
    "L = 2*np.pi/k\n",
    "print(f\"L = {L:.3f} m/s\")"
   ]
  },
  {
   "cell_type": "code",
   "execution_count": 5,
   "id": "2a76e706",
   "metadata": {},
   "outputs": [
    {
     "name": "stdout",
     "output_type": "stream",
     "text": [
      "Wave velocity by Stokes 3rd theory, C = 12.785 m/s\n"
     ]
    }
   ],
   "source": [
    "C2 = (g/k)*np.tanh(k*h)*(1+(np.pi*H/L)**2*((9+8*(np.cosh(k*h))**4-8*(np.cosh(k*h))**2)\\\n",
    "                                           /(8*(np.sinh(k*h))**4)))\n",
    "C = np.sqrt(C2)\n",
    "print(f\"Wave velocity by Stokes 3rd theory, C = {C:.3f} m/s\")"
   ]
  },
  {
   "cell_type": "markdown",
   "id": "5852dceb",
   "metadata": {},
   "source": [
    "下圖為 Stokes 5th-order theory 的解，可見兩者已經很接近。\n",
    "![Stokes5th](Stokes5th.png)"
   ]
  },
  {
   "cell_type": "code",
   "execution_count": null,
   "id": "4277e698",
   "metadata": {},
   "outputs": [],
   "source": []
  }
 ],
 "metadata": {
  "kernelspec": {
   "display_name": "Python 3",
   "language": "python",
   "name": "python3"
  },
  "language_info": {
   "codemirror_mode": {
    "name": "ipython",
    "version": 3
   },
   "file_extension": ".py",
   "mimetype": "text/x-python",
   "name": "python",
   "nbconvert_exporter": "python",
   "pygments_lexer": "ipython3",
   "version": "3.8.8"
  }
 },
 "nbformat": 4,
 "nbformat_minor": 5
}

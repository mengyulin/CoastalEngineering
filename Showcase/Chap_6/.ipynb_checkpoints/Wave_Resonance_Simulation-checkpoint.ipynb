{
 "cells": [
  {
   "cell_type": "markdown",
   "id": "29d5ddef",
   "metadata": {},
   "source": [
    "\n",
    "# 3D Wave Resonance Simulation in Rectangular Pool\n",
    "\n",
    "This Jupyter Notebook demonstrates a 3D simulation of wave resonance in a rectangular pool. The simulation visualizes the wave behavior using a dynamic 3D surface plot, created with `matplotlib`'s `plot_surface` and animated using `FuncAnimation`.\n",
    "\n",
    "## Features\n",
    "- **Interactive Visualization**: The animation dynamically updates the wave surface to simulate resonance over time.\n",
    "- **Adjustable Parameters**: Users can modify wave modes, frequency, and grid resolution to customize the simulation.\n",
    "- **3D Surface Plot**: The wave is represented as a 3D surface, providing an intuitive understanding of resonance patterns.\n",
    "\n",
    "---\n",
    "## Required Libraries\n",
    "The following Python libraries are required to run this simulation:\n",
    "- `numpy`: For numerical calculations and grid creation.\n",
    "- `matplotlib`: For 3D plotting and animation.\n",
    "\n",
    "If not already installed, use the following commands to install them:\n",
    "```bash\n",
    "pip install numpy matplotlib\n",
    "```\n",
    "    "
   ]
  },
  {
   "cell_type": "code",
   "execution_count": null,
   "id": "24241dcc",
   "metadata": {},
   "outputs": [],
   "source": [
    "\n",
    "# Import necessary libraries\n",
    "import numpy as np\n",
    "import matplotlib.pyplot as plt\n",
    "from matplotlib.animation import FuncAnimation\n",
    "from mpl_toolkits.mplot3d import Axes3D\n",
    "    "
   ]
  },
  {
   "cell_type": "markdown",
   "id": "0633506e",
   "metadata": {},
   "source": [
    "\n",
    "## Simulation Parameters\n",
    "\n",
    "The parameters for the rectangular pool, wave modes, and animation are defined below. You can adjust these to customize the simulation:\n",
    "- `Lx`, `Ly`: Length and width of the pool.\n",
    "- `Nx`, `Ny`: Resolution of the simulation grid.\n",
    "- `mode_x`, `mode_y`: Modes of the wave along the x and y directions.\n",
    "- `omega`: Angular frequency of the wave.\n",
    "- `T`, `fps`: Total duration and frame rate of the animation.\n",
    "    "
   ]
  },
  {
   "cell_type": "code",
   "execution_count": null,
   "id": "a699ce2a",
   "metadata": {},
   "outputs": [],
   "source": [
    "\n",
    "# Simulation Parameters\n",
    "Lx = 2.0  # Pool length in the x-direction (meters)\n",
    "Ly = 1.0  # Pool width in the y-direction (meters)\n",
    "Nx = 100  # Number of grid points in the x-direction\n",
    "Ny = 50   # Number of grid points in the y-direction\n",
    "T = 10.0  # Duration of the animation (seconds)\n",
    "fps = 30  # Frames per second\n",
    "\n",
    "# Wave Parameters\n",
    "mode_x = 2  # Wave mode in the x-direction\n",
    "mode_y = 1  # Wave mode in the y-direction\n",
    "omega = 2 * np.pi  # Angular frequency (radians per second)\n",
    "    "
   ]
  },
  {
   "cell_type": "markdown",
   "id": "d3d5c6f7",
   "metadata": {},
   "source": [
    "\n",
    "## Create Grid and Initialize Plot\n",
    "\n",
    "Here, we create a mesh grid for the 3D surface plot and initialize the plot with default values.\n",
    "    "
   ]
  },
  {
   "cell_type": "code",
   "execution_count": null,
   "id": "8077b6f3",
   "metadata": {},
   "outputs": [],
   "source": [
    "\n",
    "# Create grid for the pool\n",
    "x = np.linspace(0, Lx, Nx)\n",
    "y = np.linspace(0, Ly, Ny)\n",
    "X, Y = np.meshgrid(x, y)\n",
    "\n",
    "# Initialize plot\n",
    "fig = plt.figure(figsize=(10, 6))\n",
    "ax = fig.add_subplot(111, projection='3d')\n",
    "ax.set_xlim(0, Lx)\n",
    "ax.set_ylim(0, Ly)\n",
    "ax.set_zlim(-1, 1)\n",
    "ax.set_xlabel(\"x (m)\")\n",
    "ax.set_ylabel(\"y (m)\")\n",
    "ax.set_zlabel(\"Wave Height (m)\")\n",
    "ax.set_title(\"3D Wave Resonance in Rectangular Pool\")\n",
    "\n",
    "# Initialize surface\n",
    "Z = np.zeros_like(X)\n",
    "wave_surface = [ax.plot_surface(X, Y, Z, cmap='viridis', edgecolor='none')]\n",
    "    "
   ]
  },
  {
   "cell_type": "markdown",
   "id": "46294dba",
   "metadata": {},
   "source": [
    "\n",
    "## Define Animation Function\n",
    "\n",
    "The animation function updates the wave surface for each frame based on the wave equation:\n",
    "\\[Z(x, y, t) = \\sin\\left(\f",
    "rac{m \\pi x}{L_x}\r",
    "ight) \\sin\\left(\f",
    "rac{n \\pi y}{L_y}\r",
    "ight) \\cos(\\omega t)\n",
    "\\]\n",
    "    "
   ]
  },
  {
   "cell_type": "code",
   "execution_count": null,
   "id": "dfdfc6f0",
   "metadata": {},
   "outputs": [],
   "source": [
    "\n",
    "# Update function for animation\n",
    "def update(frame):\n",
    "    t = frame / fps\n",
    "    Z = np.sin(mode_x * np.pi * X / Lx) * np.sin(mode_y * np.pi * Y / Ly) * np.cos(omega * t)\n",
    "    wave_surface[0].remove()  # Remove old surface\n",
    "    wave_surface[0] = ax.plot_surface(X, Y, Z, cmap='viridis', edgecolor='none')\n",
    "    return wave_surface[0],\n",
    "    "
   ]
  },
  {
   "cell_type": "markdown",
   "id": "d32abeae",
   "metadata": {},
   "source": [
    "\n",
    "## Create Animation\n",
    "\n",
    "The animation is created using `FuncAnimation`, which updates the plot in real-time. You can adjust the number of frames based on the total duration and frame rate.\n",
    "    "
   ]
  },
  {
   "cell_type": "code",
   "execution_count": null,
   "id": "3da83339",
   "metadata": {},
   "outputs": [],
   "source": [
    "\n",
    "# Create animation\n",
    "num_frames = int(T * fps)\n",
    "ani = FuncAnimation(fig, update, frames=num_frames, blit=False)\n",
    "    "
   ]
  },
  {
   "cell_type": "markdown",
   "id": "64246688",
   "metadata": {},
   "source": [
    "\n",
    "## Display the Animation\n",
    "\n",
    "The animation is displayed directly in the notebook if `%matplotlib notebook` is enabled. Alternatively, it can be exported to an HTML file.\n",
    "    "
   ]
  },
  {
   "cell_type": "code",
   "execution_count": null,
   "id": "421a3579",
   "metadata": {},
   "outputs": [],
   "source": [
    "\n",
    "# Display the animation\n",
    "#plt.show()\n",
    "from IPython.display import HTML\n",
    "HTML(ani.to_jshtml())   "
   ]
  },
  {
   "cell_type": "markdown",
   "id": "36c3a7e8",
   "metadata": {},
   "source": [
    "\n",
    "## Export Animation (Optional)\n",
    "\n",
    "To save the animation as an HTML file or video, you can use the following commands:\n",
    "```python\n",
    "ani.save(\"wave_resonance.mp4\", writer=\"ffmpeg\")\n",
    "```\n",
    "Or save as an HTML file:\n",
    "```python\n",
    "from IPython.display import HTML\n",
    "HTML(ani.to_jshtml())\n",
    "```\n",
    "    "
   ]
  }
 ],
 "metadata": {
  "kernelspec": {
   "display_name": "Python 3 (ipykernel)",
   "language": "python",
   "name": "python3"
  },
  "language_info": {
   "codemirror_mode": {
    "name": "ipython",
    "version": 3
   },
   "file_extension": ".py",
   "mimetype": "text/x-python",
   "name": "python",
   "nbconvert_exporter": "python",
   "pygments_lexer": "ipython3",
   "version": "3.11.0"
  }
 },
 "nbformat": 4,
 "nbformat_minor": 5
}
